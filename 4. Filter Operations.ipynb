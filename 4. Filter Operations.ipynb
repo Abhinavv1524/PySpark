{
 "cells": [
  {
   "cell_type": "code",
   "execution_count": 1,
   "id": "af577c08",
   "metadata": {},
   "outputs": [],
   "source": [
    "from pyspark.sql import SparkSession"
   ]
  },
  {
   "cell_type": "code",
   "execution_count": 2,
   "id": "b9b2fbe1",
   "metadata": {},
   "outputs": [],
   "source": [
    "spark = SparkSession.builder.appName(\"Practice Filter Operations\").getOrCreate()"
   ]
  },
  {
   "cell_type": "code",
   "execution_count": 9,
   "id": "d2764d2c",
   "metadata": {},
   "outputs": [],
   "source": [
    "df_pyspark = spark.read.csv(\"Test.csv\",header=True, inferSchema=True)"
   ]
  },
  {
   "cell_type": "code",
   "execution_count": 10,
   "id": "e40c8d7f",
   "metadata": {},
   "outputs": [
    {
     "name": "stdout",
     "output_type": "stream",
     "text": [
      "+--------+---+----------+------+\n",
      "|   Name |Age|Experience|Salary|\n",
      "+--------+---+----------+------+\n",
      "| Abhinav| 22|         4| 25000|\n",
      "|   Rishi| 22|         3| 30000|\n",
      "|   Rohan| 24|         2| 12000|\n",
      "|Raushan | 25|         1| 20000|\n",
      "|    Ansh| 21|         2| 35000|\n",
      "|   Aryan| 23|         3| 22000|\n",
      "+--------+---+----------+------+\n",
      "\n"
     ]
    }
   ],
   "source": [
    "df_pyspark.show()"
   ]
  },
  {
   "cell_type": "code",
   "execution_count": 11,
   "id": "1254667a",
   "metadata": {},
   "outputs": [
    {
     "name": "stdout",
     "output_type": "stream",
     "text": [
      "+--------+---+----------+------+\n",
      "|   Name |Age|Experience|Salary|\n",
      "+--------+---+----------+------+\n",
      "|   Rohan| 24|         2| 12000|\n",
      "|Raushan | 25|         1| 20000|\n",
      "+--------+---+----------+------+\n",
      "\n"
     ]
    }
   ],
   "source": [
    "## Filter operations\n",
    "\n",
    "# Salary 0f people lessthan 20k\n",
    "df_pyspark.filter(\"Salary<=20000\").show()"
   ]
  },
  {
   "cell_type": "code",
   "execution_count": 12,
   "id": "03116ba0",
   "metadata": {},
   "outputs": [
    {
     "name": "stdout",
     "output_type": "stream",
     "text": [
      "+--------+---+\n",
      "|   Name |age|\n",
      "+--------+---+\n",
      "|   Rohan| 24|\n",
      "|Raushan | 25|\n",
      "+--------+---+\n",
      "\n"
     ]
    }
   ],
   "source": [
    "df_pyspark.filter(\"Salary<=20000\").select(\"Name \",\"age\").show()"
   ]
  },
  {
   "cell_type": "code",
   "execution_count": 14,
   "id": "3174f221",
   "metadata": {},
   "outputs": [
    {
     "name": "stdout",
     "output_type": "stream",
     "text": [
      "+--------+---+\n",
      "|   Name |age|\n",
      "+--------+---+\n",
      "|   Rohan| 24|\n",
      "|Raushan | 25|\n",
      "+--------+---+\n",
      "\n"
     ]
    }
   ],
   "source": [
    "df_pyspark.filter(df_pyspark[\"Salary\"] <= 20000).select(\"Name \", \"age\").show()"
   ]
  },
  {
   "cell_type": "code",
   "execution_count": null,
   "id": "51d24e10",
   "metadata": {},
   "outputs": [
    {
     "name": "stdout",
     "output_type": "stream",
     "text": [
      "+--------+---+----------+------+\n",
      "|   Name |Age|Experience|Salary|\n",
      "+--------+---+----------+------+\n",
      "|Raushan | 25|         1| 20000|\n",
      "+--------+---+----------+------+\n",
      "\n"
     ]
    }
   ],
   "source": [
    "df_pyspark.filter((df_pyspark[\"Salary\"] <=20000) & \n",
    "                  (df_pyspark[\"Salary\"]>=15000)).show()"
   ]
  },
  {
   "cell_type": "code",
   "execution_count": 18,
   "id": "89801a94",
   "metadata": {},
   "outputs": [
    {
     "name": "stdout",
     "output_type": "stream",
     "text": [
      "+-------+---+----------+------+\n",
      "|  Name |Age|Experience|Salary|\n",
      "+-------+---+----------+------+\n",
      "|Abhinav| 22|         4| 25000|\n",
      "|  Rishi| 22|         3| 30000|\n",
      "|   Ansh| 21|         2| 35000|\n",
      "|  Aryan| 23|         3| 22000|\n",
      "+-------+---+----------+------+\n",
      "\n"
     ]
    }
   ],
   "source": [
    "df_pyspark.filter(~(df_pyspark[\"Salary\"] <= 20000)).show()"
   ]
  },
  {
   "cell_type": "code",
   "execution_count": null,
   "id": "c1f85346",
   "metadata": {},
   "outputs": [],
   "source": []
  }
 ],
 "metadata": {
  "kernelspec": {
   "display_name": "env",
   "language": "python",
   "name": "python3"
  },
  "language_info": {
   "codemirror_mode": {
    "name": "ipython",
    "version": 3
   },
   "file_extension": ".py",
   "mimetype": "text/x-python",
   "name": "python",
   "nbconvert_exporter": "python",
   "pygments_lexer": "ipython3",
   "version": "3.12.10"
  }
 },
 "nbformat": 4,
 "nbformat_minor": 5
}
