{
 "cells": [
  {
   "cell_type": "code",
   "execution_count": 1,
   "id": "488a5013",
   "metadata": {},
   "outputs": [],
   "source": [
    "from pyspark.sql import SparkSession"
   ]
  },
  {
   "cell_type": "code",
   "execution_count": 3,
   "id": "ac729920",
   "metadata": {},
   "outputs": [],
   "source": [
    "spark = SparkSession.builder.appName(\"DataFrame\").getOrCreate()"
   ]
  },
  {
   "cell_type": "code",
   "execution_count": 4,
   "id": "5ba64a0d",
   "metadata": {},
   "outputs": [
    {
     "data": {
      "text/html": [
       "\n",
       "            <div>\n",
       "                <p><b>SparkSession - in-memory</b></p>\n",
       "                \n",
       "        <div>\n",
       "            <p><b>SparkContext</b></p>\n",
       "\n",
       "            <p><a href=\"http://10.35.4.143:4040\">Spark UI</a></p>\n",
       "\n",
       "            <dl>\n",
       "              <dt>Version</dt>\n",
       "                <dd><code>v4.0.0</code></dd>\n",
       "              <dt>Master</dt>\n",
       "                <dd><code>local[*]</code></dd>\n",
       "              <dt>AppName</dt>\n",
       "                <dd><code>DataFrame</code></dd>\n",
       "            </dl>\n",
       "        </div>\n",
       "        \n",
       "            </div>\n",
       "        "
      ],
      "text/plain": [
       "<pyspark.sql.session.SparkSession at 0x1a31a775010>"
      ]
     },
     "execution_count": 4,
     "metadata": {},
     "output_type": "execute_result"
    }
   ],
   "source": [
    "spark"
   ]
  },
  {
   "cell_type": "code",
   "execution_count": 9,
   "id": "eefd9ed1",
   "metadata": {},
   "outputs": [],
   "source": [
    "## Reading the Dataset\n",
    "\n",
    "df_pyspark = spark.read.options(header = True, inferSchema = True).csv(\"Test.csv\")"
   ]
  },
  {
   "cell_type": "code",
   "execution_count": 10,
   "id": "86e1aad3",
   "metadata": {},
   "outputs": [
    {
     "name": "stdout",
     "output_type": "stream",
     "text": [
      "root\n",
      " |-- Name : string (nullable = true)\n",
      " |-- Age: integer (nullable = true)\n",
      " |-- Experience: integer (nullable = true)\n",
      "\n"
     ]
    }
   ],
   "source": [
    "## Check the schema of the DataFrame\n",
    "\n",
    "df_pyspark.printSchema()"
   ]
  },
  {
   "cell_type": "code",
   "execution_count": 11,
   "id": "25ba90a9",
   "metadata": {},
   "outputs": [
    {
     "name": "stdout",
     "output_type": "stream",
     "text": [
      "root\n",
      " |-- Name : string (nullable = true)\n",
      " |-- Age: integer (nullable = true)\n",
      " |-- Experience: integer (nullable = true)\n",
      "\n"
     ]
    }
   ],
   "source": [
    "df_pyspark = spark.read.csv(\"Test.csv\", header=True, inferSchema=True)\n",
    "## Check the schema of the DataFrame again\n",
    "df_pyspark.printSchema()"
   ]
  },
  {
   "cell_type": "code",
   "execution_count": 12,
   "id": "30fbac43",
   "metadata": {},
   "outputs": [
    {
     "name": "stdout",
     "output_type": "stream",
     "text": [
      "+--------+---+----------+\n",
      "|   Name |Age|Experience|\n",
      "+--------+---+----------+\n",
      "| Abhinav| 22|         4|\n",
      "|   Rishi| 22|         3|\n",
      "|   Rohan| 24|         2|\n",
      "|Raushan | 25|         1|\n",
      "+--------+---+----------+\n",
      "\n"
     ]
    }
   ],
   "source": [
    "df_pyspark.show()"
   ]
  },
  {
   "cell_type": "code",
   "execution_count": 13,
   "id": "28549629",
   "metadata": {},
   "outputs": [
    {
     "data": {
      "text/plain": [
       "pyspark.sql.classic.dataframe.DataFrame"
      ]
     },
     "execution_count": 13,
     "metadata": {},
     "output_type": "execute_result"
    }
   ],
   "source": [
    "type(df_pyspark)"
   ]
  },
  {
   "cell_type": "code",
   "execution_count": 14,
   "id": "f8af998e",
   "metadata": {},
   "outputs": [
    {
     "data": {
      "text/plain": [
       "['Name ', 'Age', 'Experience']"
      ]
     },
     "execution_count": 14,
     "metadata": {},
     "output_type": "execute_result"
    }
   ],
   "source": [
    "df_pyspark.columns"
   ]
  },
  {
   "cell_type": "code",
   "execution_count": 16,
   "id": "d3464588",
   "metadata": {},
   "outputs": [
    {
     "data": {
      "text/plain": [
       "[Row(Name ='Abhinav', Age=22, Experience=4),\n",
       " Row(Name ='Rishi', Age=22, Experience=3)]"
      ]
     },
     "execution_count": 16,
     "metadata": {},
     "output_type": "execute_result"
    }
   ],
   "source": [
    "df_pyspark.head(2)"
   ]
  },
  {
   "cell_type": "code",
   "execution_count": 17,
   "id": "ae69be30",
   "metadata": {},
   "outputs": [
    {
     "name": "stdout",
     "output_type": "stream",
     "text": [
      "+--------+---+----------+\n",
      "|   Name |Age|Experience|\n",
      "+--------+---+----------+\n",
      "| Abhinav| 22|         4|\n",
      "|   Rishi| 22|         3|\n",
      "|   Rohan| 24|         2|\n",
      "|Raushan | 25|         1|\n",
      "+--------+---+----------+\n",
      "\n"
     ]
    }
   ],
   "source": [
    "df_pyspark.show()"
   ]
  },
  {
   "cell_type": "code",
   "execution_count": 21,
   "id": "531eed4c",
   "metadata": {},
   "outputs": [
    {
     "data": {
      "text/plain": [
       "DataFrame[Name : string]"
      ]
     },
     "execution_count": 21,
     "metadata": {},
     "output_type": "execute_result"
    }
   ],
   "source": [
    "df_pyspark.select(\"Name \")"
   ]
  },
  {
   "cell_type": "code",
   "execution_count": 24,
   "id": "277f5cd2",
   "metadata": {},
   "outputs": [
    {
     "name": "stdout",
     "output_type": "stream",
     "text": [
      "+--------+----------+\n",
      "|   Name |Experience|\n",
      "+--------+----------+\n",
      "| Abhinav|         4|\n",
      "|   Rishi|         3|\n",
      "|   Rohan|         2|\n",
      "|Raushan |         1|\n",
      "+--------+----------+\n",
      "\n"
     ]
    }
   ],
   "source": [
    "df_pyspark.select([\"Name \", 'Experience']).show()"
   ]
  },
  {
   "cell_type": "code",
   "execution_count": null,
   "id": "5e5f73da",
   "metadata": {},
   "outputs": [
    {
     "data": {
      "text/plain": [
       "Column<'`Name `'>"
      ]
     },
     "execution_count": 25,
     "metadata": {},
     "output_type": "execute_result"
    }
   ],
   "source": [
    "df_pyspark['Name ']"
   ]
  },
  {
   "cell_type": "code",
   "execution_count": 26,
   "id": "32f103d9",
   "metadata": {},
   "outputs": [
    {
     "data": {
      "text/plain": [
       "[('Name ', 'string'), ('Age', 'int'), ('Experience', 'int')]"
      ]
     },
     "execution_count": 26,
     "metadata": {},
     "output_type": "execute_result"
    }
   ],
   "source": [
    "df_pyspark.dtypes"
   ]
  },
  {
   "cell_type": "code",
   "execution_count": 28,
   "id": "cdfed3ef",
   "metadata": {},
   "outputs": [
    {
     "name": "stdout",
     "output_type": "stream",
     "text": [
      "+-------+-------+------------------+------------------+\n",
      "|summary|  Name |               Age|        Experience|\n",
      "+-------+-------+------------------+------------------+\n",
      "|  count|      4|                 4|                 4|\n",
      "|   mean|   NULL|             23.25|               2.5|\n",
      "| stddev|   NULL|1.4999999999999996|1.2909944487358056|\n",
      "|    min|Abhinav|                22|                 1|\n",
      "|    max|  Rohan|                25|                 4|\n",
      "+-------+-------+------------------+------------------+\n",
      "\n"
     ]
    }
   ],
   "source": [
    "df_pyspark.describe().show()"
   ]
  },
  {
   "cell_type": "code",
   "execution_count": 31,
   "id": "14cd8d49",
   "metadata": {},
   "outputs": [],
   "source": [
    "## adding columns in df_pyspark\n",
    "\n",
    "df_pyspark = df_pyspark.withColumn(\"Experience in 2 Years\", df_pyspark['Experience'] * 2)"
   ]
  },
  {
   "cell_type": "code",
   "execution_count": 32,
   "id": "0cfbeb27",
   "metadata": {},
   "outputs": [
    {
     "name": "stdout",
     "output_type": "stream",
     "text": [
      "+--------+---+----------+---------------------+\n",
      "|   Name |Age|Experience|Experience in 2 Years|\n",
      "+--------+---+----------+---------------------+\n",
      "| Abhinav| 22|         4|                    8|\n",
      "|   Rishi| 22|         3|                    6|\n",
      "|   Rohan| 24|         2|                    4|\n",
      "|Raushan | 25|         1|                    2|\n",
      "+--------+---+----------+---------------------+\n",
      "\n"
     ]
    }
   ],
   "source": [
    "df_pyspark.show()"
   ]
  },
  {
   "cell_type": "code",
   "execution_count": 33,
   "id": "ef118237",
   "metadata": {},
   "outputs": [],
   "source": [
    "## Dropping the column\n",
    "df_pyspark = df_pyspark.drop(\"Experience in 2 Years\")"
   ]
  },
  {
   "cell_type": "code",
   "execution_count": 34,
   "id": "11541ffc",
   "metadata": {},
   "outputs": [
    {
     "name": "stdout",
     "output_type": "stream",
     "text": [
      "+--------+---+----------+\n",
      "|   Name |Age|Experience|\n",
      "+--------+---+----------+\n",
      "| Abhinav| 22|         4|\n",
      "|   Rishi| 22|         3|\n",
      "|   Rohan| 24|         2|\n",
      "|Raushan | 25|         1|\n",
      "+--------+---+----------+\n",
      "\n"
     ]
    }
   ],
   "source": [
    "df_pyspark.show()"
   ]
  },
  {
   "cell_type": "code",
   "execution_count": 35,
   "id": "3da160ed",
   "metadata": {},
   "outputs": [],
   "source": [
    "## rename the column\n",
    "df_pyspark = df_pyspark.withColumnRenamed(\"Name \", \"Name\")"
   ]
  },
  {
   "cell_type": "code",
   "execution_count": 36,
   "id": "e9d2ec73",
   "metadata": {},
   "outputs": [
    {
     "name": "stdout",
     "output_type": "stream",
     "text": [
      "+--------+---+----------+\n",
      "|    Name|Age|Experience|\n",
      "+--------+---+----------+\n",
      "| Abhinav| 22|         4|\n",
      "|   Rishi| 22|         3|\n",
      "|   Rohan| 24|         2|\n",
      "|Raushan | 25|         1|\n",
      "+--------+---+----------+\n",
      "\n"
     ]
    }
   ],
   "source": [
    "df_pyspark.show()"
   ]
  },
  {
   "cell_type": "code",
   "execution_count": null,
   "id": "1e3acab4",
   "metadata": {},
   "outputs": [],
   "source": []
  }
 ],
 "metadata": {
  "kernelspec": {
   "display_name": "env",
   "language": "python",
   "name": "python3"
  },
  "language_info": {
   "codemirror_mode": {
    "name": "ipython",
    "version": 3
   },
   "file_extension": ".py",
   "mimetype": "text/x-python",
   "name": "python",
   "nbconvert_exporter": "python",
   "pygments_lexer": "ipython3",
   "version": "3.12.10"
  }
 },
 "nbformat": 4,
 "nbformat_minor": 5
}
